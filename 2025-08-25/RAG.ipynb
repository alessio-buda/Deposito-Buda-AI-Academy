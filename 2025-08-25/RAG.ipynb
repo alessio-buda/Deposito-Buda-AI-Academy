{
 "cells": [
  {
   "cell_type": "code",
   "execution_count": 13,
   "id": "1396fa10",
   "metadata": {},
   "outputs": [],
   "source": [
    "import os\n",
    "from dotenv import load_dotenv\n",
    "from openai import AzureOpenAI\n",
    "import getpass"
   ]
  },
  {
   "cell_type": "code",
   "execution_count": 14,
   "id": "df26e15d",
   "metadata": {},
   "outputs": [],
   "source": [
    "# Load environment variables\n",
    "load_dotenv()\n",
    "\n",
    "# Get values from .env\n",
    "endpoint = os.getenv(\"AZURE_OPENAI_ENDPOINT\")\n",
    "key = os.getenv(\"AZURE_OPENAI_KEY\")\n",
    "deployment = os.getenv(\"AZURE_OPENAI_EMBEDDING_DEPLOYMENT\")\n",
    "api_version = os.getenv(\"AZURE_OPENAI_API_VERSION\")\n"
   ]
  },
  {
   "cell_type": "code",
   "execution_count": 15,
   "id": "d24fe847",
   "metadata": {},
   "outputs": [
    {
     "name": "stdout",
     "output_type": "stream",
     "text": [
      "Embedding length: 1536\n",
      "First 5 values: [-0.007019899319857359, 0.0034685435239225626, -0.00714093167334795, -0.029149780049920082, -0.013071536086499691]\n"
     ]
    }
   ],
   "source": [
    "# Create Azure OpenAI client\n",
    "client = AzureOpenAI(\n",
    "    api_key=key,\n",
    "    api_version=api_version,\n",
    "    azure_endpoint=endpoint\n",
    ")\n",
    "\n",
    "# Example input text\n",
    "input_text = \"Hello World\"\n",
    "\n",
    "# Make an embedding request\n",
    "response = client.embeddings.create(\n",
    "    model=deployment,\n",
    "    input=input_text\n",
    ")\n",
    "\n",
    "# Get the vector (list of floats)\n",
    "embedding_vector = response.data[0].embedding\n",
    "\n",
    "print(f\"Embedding length: {len(embedding_vector)}\")\n",
    "print(f\"First 5 values: {embedding_vector[:5]}\")"
   ]
  },
  {
   "cell_type": "code",
   "execution_count": 16,
   "id": "3f41adbd",
   "metadata": {},
   "outputs": [
    {
     "name": "stdout",
     "output_type": "stream",
     "text": [
      "Cosine similarities to reference:\n",
      "Artificial Intelligence: 0.9952\n",
      "AI: 0.8804\n",
      "Roman Empire: 0.7659\n"
     ]
    }
   ],
   "source": [
    "import numpy as np\n",
    "\n",
    "input_1 = \"Artificial Intelligence\"\n",
    "input_2 = \"AI\"\n",
    "input_3 = \"Roman Empire\"\n",
    "\n",
    "reference = \"Artificial intelligence\"\n",
    "\n",
    "inputs = [input_1, input_2, input_3]\n",
    "embeddings = []\n",
    "\n",
    "for input in inputs:\n",
    "    response = client.embeddings.create(\n",
    "        model=deployment,\n",
    "        input=input\n",
    "    )\n",
    "    embedding_vector = response.data[0].embedding\n",
    "    embeddings.append(embedding_vector)\n",
    "    \n",
    "# Get embedding for reference text\n",
    "ref_response = client.embeddings.create(\n",
    "    model=deployment,\n",
    "    input=reference\n",
    ")\n",
    "ref_embedding = np.array(ref_response.data[0].embedding)\n",
    "\n",
    "# Compute cosine similarity\n",
    "similarities = []\n",
    "for emb in embeddings:\n",
    "    emb_vec = np.array(emb)\n",
    "    cos_sim = np.dot(ref_embedding, emb_vec) / (np.linalg.norm(ref_embedding) * np.linalg.norm(emb_vec))\n",
    "    similarities.append(cos_sim)\n",
    "\n",
    "print(\"Cosine similarities to reference:\")\n",
    "for i, sim in enumerate(similarities):\n",
    "    print(f\"{inputs[i]}: {sim:.4f}\")\n"
   ]
  },
  {
   "cell_type": "code",
   "execution_count": null,
   "id": "f71a5389",
   "metadata": {},
   "outputs": [],
   "source": [
    "from langchain.chat_models import init_chat_model\n",
    "\n",
    "# Initialize chat model\n",
    "llm = init_chat_model(\n",
    "    \"gpt-35-turbo\", \n",
    "    model_provider=\"azure_openai\",\n",
    "    api_key=key,\n",
    "    api_version=api_version,\n",
    ")"
   ]
  },
  {
   "cell_type": "code",
   "execution_count": null,
   "id": "3591b87d",
   "metadata": {},
   "outputs": [],
   "source": [
    "from langchain_openai import OpenAIEmbeddings\n",
    "\n",
    "# Initialize embeddings model\n",
    "embeddings = OpenAIEmbeddings(\n",
    "    model=\"text-embedding-ada-002\",\n",
    "    api_key=key,\n",
    "    api_version=api_version,\n",
    ")"
   ]
  },
  {
   "cell_type": "code",
   "execution_count": null,
   "id": "3e953071",
   "metadata": {},
   "outputs": [],
   "source": []
  }
 ],
 "metadata": {
  "kernelspec": {
   "display_name": ".venv",
   "language": "python",
   "name": "python3"
  },
  "language_info": {
   "codemirror_mode": {
    "name": "ipython",
    "version": 3
   },
   "file_extension": ".py",
   "mimetype": "text/x-python",
   "name": "python",
   "nbconvert_exporter": "python",
   "pygments_lexer": "ipython3",
   "version": "3.11.9"
  }
 },
 "nbformat": 4,
 "nbformat_minor": 5
}
