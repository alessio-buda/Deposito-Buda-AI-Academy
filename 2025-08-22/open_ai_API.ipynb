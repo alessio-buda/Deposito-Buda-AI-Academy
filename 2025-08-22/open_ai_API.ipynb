{
 "cells": [
  {
   "cell_type": "markdown",
   "id": "a1af2e67",
   "metadata": {},
   "source": [
    "## Exercises 22/08/2025"
   ]
  },
  {
   "cell_type": "markdown",
   "id": "e6b5dde4",
   "metadata": {},
   "source": [
    "### Test Azure OpenAI"
   ]
  },
  {
   "cell_type": "code",
   "execution_count": 6,
   "id": "658bfd96",
   "metadata": {},
   "outputs": [],
   "source": [
    "import os\n",
    "from dotenv import load_dotenv\n",
    "from openai import AzureOpenAI\n",
    "\n",
    "# Load environment variables\n",
    "load_dotenv()\n",
    "\n",
    "# Get values from .env\n",
    "endpoint = os.getenv(\"AZURE_OPENAI_ENDPOINT\")\n",
    "key = os.getenv(\"AZURE_OPENAI_KEY\")\n",
    "deployment = os.getenv(\"AZURE_OPENAI_DEPLOYMENT\")\n",
    "api_version = os.getenv(\"AZURE_OPENAI_API_VERSION\")"
   ]
  },
  {
   "cell_type": "code",
   "execution_count": 7,
   "id": "060da85a",
   "metadata": {},
   "outputs": [
    {
     "name": "stdout",
     "output_type": "stream",
     "text": [
      "Artificial Intelligence (AI) refers to the simulation of human intelligence processes by machines, particularly computer systems. This includes learning, reasoning, problem-solving, perception, and language understanding. AI enables machines to perform tasks that typically require human intelligence, such as visual perception, speech recognition, decision-making, and language translation.\n"
     ]
    }
   ],
   "source": [
    "# Create Azure OpenAI client\n",
    "client = AzureOpenAI(\n",
    "    api_key=key,\n",
    "    api_version=api_version,\n",
    "    azure_endpoint=endpoint\n",
    ")\n",
    "\n",
    "# Make a chat completion request\n",
    "response = client.chat.completions.create(\n",
    "    model=deployment,\n",
    "    messages=[\n",
    "        {\"role\": \"system\", \"content\": \"You are a helpful assistant.\"},\n",
    "        {\"role\": \"user\", \"content\": \"Provide a clear definition of artificial intelligence.\"}\n",
    "    ],\n",
    "    max_tokens=150\n",
    ")\n",
    "\n",
    "# Print the assistant's reply\n",
    "print(response.choices[0].message.content)\n"
   ]
  },
  {
   "cell_type": "markdown",
   "id": "584fd374",
   "metadata": {},
   "source": [
    "### Test concurrent requests"
   ]
  },
  {
   "cell_type": "code",
   "execution_count": 11,
   "id": "2f380863",
   "metadata": {},
   "outputs": [
    {
     "name": "stdout",
     "output_type": "stream",
     "text": [
      "\"Il nostro festival di yoga è un'esperienza unica che ti permetterà di immergerti completamente nella pratica dello yoga, della meditazione e del benessere. In un'atmosfera rilassante e ispiratrice, avrai l'opportunità di partecipare a lezioni guidate da insegnanti esperti, partecipare a workshop interattivi, scoprire nuove tecniche e approfondire la tua pratica personale. Potrai anche gustare deliziosi cibi vegetali, partecipare a concerti di musica yoga e connetterti con la natura circostante. Il nostro festival è un\n",
      "Le montagne offrono un ambiente unico e spettacolare per la realizzazione di eventi di vario genere. In queste imponenti e suggestive terre, immersi nella natura selvaggia e incontaminata, è possibile organizzare eventi che soddisfino le esigenze di diversi tipi di partecipanti: dagli amanti della natura e degli sport estremi agli appassionati di arte, cultura e gastronomia.\n",
      "\n",
      "Grazie alla varietà di paesaggi e alla presenza di strutture moderne e accoglienti, è possibile organizzare eventi come festival musicali, esposizioni d'arte, corsi\n",
      "1. Picnic in un parco locale: Organizza un picnic in un parco vicino a casa tua, porta coperte, cibo e giochi all'aperto per un pomeriggio divertente in famiglia.\n",
      "\n",
      "2. Escursione in montagna: Organizza un'escursione in montagna o una camminata su un sentiero panoramico per immergerti nella natura e ammirare paesaggi mozzafiato insieme alla tua famiglia.\n",
      "\n",
      "3. Giornata alla spiaggia: Trascorri una giornata al mare con la tua famiglia, costruendo castelli di sabbia, nuotando, facendo passeggiate lung\n",
      "Il campeggio libero in Italia si riferisce alla pratica di stabilire un'accampamento in una zona non attrezzata, al di fuori dei campeggi regolamentati e autorizzati. Questo tipo di campeggio è spesso svolto in aree naturali come boschi, montagne, laghi o spiagge.\n",
      "\n",
      "È importante notare che il campeggio libero in Italia è regolamentato e soggetto a diverse restrizioni in base alle leggi regionali e locali. In molte aree, il campeggio libero è vietato o limitato solo a determinate zone designate. Inoltre, è essenziale rispett\n",
      "L'escursione invernale in Trentino è un'esperienza magica e suggestiva che ti permette di immergerti completamente nella natura innevata delle montagne.\n",
      "\n",
      "Partendo da un rifugio o da un piccolo paese di montagna, ci si addentra nei boschi innevati seguendo sentieri battuti o indossando racchette da neve per affrontare le salite più ripide.\n",
      "\n",
      "Il paesaggio è incantevole, con alberi carichi di neve che brillano al sole e panorami mozzafiato sulle vette circostanti. Il silenzio della neve crea un'atmosfera di\n"
     ]
    }
   ],
   "source": [
    "from concurrent.futures import ThreadPoolExecutor, as_completed\n",
    "import openai\n",
    "\n",
    "openai.api_key = key\n",
    "\n",
    "prompts = [\n",
    "    \"Scrivi un'introduzione su eventi in montagna\",\n",
    "    \"Genera una descrizione per un festival di yoga\",\n",
    "    \"Spiega il campeggio libero in Italia\",\n",
    "    \"Crea una lista di 5 eventi outdoor per famiglie\",\n",
    "    \"Descrivi un'escursione invernale in Trentino\"\n",
    "]\n",
    "\n",
    "def ask(prompt):\n",
    "    return client.chat.completions.create(\n",
    "        model=deployment,\n",
    "        messages=[{\"role\": \"user\", \"content\": prompt}],\n",
    "        max_tokens=150\n",
    "    ).choices[0].message.content\n",
    "\n",
    "with ThreadPoolExecutor(max_workers=5) as executor:\n",
    "    futures = [executor.submit(ask, p) for p in prompts]\n",
    "    for future in as_completed(futures):\n",
    "        print(future.result())"
   ]
  },
  {
   "cell_type": "code",
   "execution_count": null,
   "id": "ae7e3da6",
   "metadata": {},
   "outputs": [],
   "source": []
  }
 ],
 "metadata": {
  "kernelspec": {
   "display_name": ".venv",
   "language": "python",
   "name": "python3"
  },
  "language_info": {
   "codemirror_mode": {
    "name": "ipython",
    "version": 3
   },
   "file_extension": ".py",
   "mimetype": "text/x-python",
   "name": "python",
   "nbconvert_exporter": "python",
   "pygments_lexer": "ipython3",
   "version": "3.11.9"
  }
 },
 "nbformat": 4,
 "nbformat_minor": 5
}
