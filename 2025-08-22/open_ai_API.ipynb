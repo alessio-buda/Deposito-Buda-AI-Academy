{
 "cells": [
  {
   "cell_type": "code",
   "execution_count": 1,
   "id": "658bfd96",
   "metadata": {},
   "outputs": [],
   "source": [
    "import os\n",
    "from dotenv import load_dotenv\n",
    "from openai import AzureOpenAI\n",
    "\n",
    "# Load environment variables\n",
    "load_dotenv()\n",
    "\n",
    "# Get values from .env\n",
    "endpoint = os.getenv(\"AZURE_OPENAI_ENDPOINT\")\n",
    "key = os.getenv(\"AZURE_OPENAI_KEY\")\n",
    "deployment = os.getenv(\"AZURE_OPENAI_DEPLOYMENT\")\n",
    "api_version = os.getenv(\"AZURE_OPENAI_API_VERSION\")"
   ]
  },
  {
   "cell_type": "code",
   "execution_count": 2,
   "id": "060da85a",
   "metadata": {},
   "outputs": [
    {
     "name": "stdout",
     "output_type": "stream",
     "text": [
      "Artificial intelligence (AI) refers to the simulation of human intelligence processes by machines, particularly computer systems. These processes include learning, reasoning, problem-solving, perception, and decision-making. AI aims to create systems that can perform tasks that typically require human intelligence, such as understanding natural language, recognizing patterns, making predictions, or solving complex problems.\n"
     ]
    }
   ],
   "source": [
    "# Create Azure OpenAI client\n",
    "client = AzureOpenAI(\n",
    "    api_key=key,\n",
    "    api_version=api_version,\n",
    "    azure_endpoint=endpoint\n",
    ")\n",
    "\n",
    "# Make a chat completion request\n",
    "response = client.chat.completions.create(\n",
    "    model=deployment,\n",
    "    messages=[\n",
    "        {\"role\": \"system\", \"content\": \"You are a helpful assistant.\"},\n",
    "        {\"role\": \"user\", \"content\": \"Provide a clear definition of artificial intelligence.\"}\n",
    "    ],\n",
    "    max_tokens=150\n",
    ")\n",
    "\n",
    "# Print the assistant's reply\n",
    "print(response.choices[0].message.content)\n"
   ]
  }
 ],
 "metadata": {
  "kernelspec": {
   "display_name": ".venv",
   "language": "python",
   "name": "python3"
  },
  "language_info": {
   "codemirror_mode": {
    "name": "ipython",
    "version": 3
   },
   "file_extension": ".py",
   "mimetype": "text/x-python",
   "name": "python",
   "nbconvert_exporter": "python",
   "pygments_lexer": "ipython3",
   "version": "3.11.9"
  }
 },
 "nbformat": 4,
 "nbformat_minor": 5
}
